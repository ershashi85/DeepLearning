{
 "cells": [
  {
   "cell_type": "code",
   "execution_count": 1,
   "id": "upper-coast",
   "metadata": {},
   "outputs": [],
   "source": [
    "import tensorflow as tf"
   ]
  },
  {
   "cell_type": "code",
   "execution_count": 2,
   "id": "generous-voluntary",
   "metadata": {},
   "outputs": [
    {
     "name": "stdout",
     "output_type": "stream",
     "text": [
      "2.4.1\n"
     ]
    }
   ],
   "source": [
    "print(tf.__version__)"
   ]
  },
  {
   "cell_type": "code",
   "execution_count": 3,
   "id": "daily-hepatitis",
   "metadata": {},
   "outputs": [],
   "source": [
    "tf.compat.v1.logging.set_verbosity(tf.compat.v1.logging.ERROR)"
   ]
  },
  {
   "cell_type": "code",
   "execution_count": 4,
   "id": "primary-trail",
   "metadata": {},
   "outputs": [],
   "source": [
    "import numpy as np"
   ]
  },
  {
   "cell_type": "code",
   "execution_count": 5,
   "id": "supreme-hybrid",
   "metadata": {},
   "outputs": [
    {
     "name": "stdout",
     "output_type": "stream",
     "text": [
      "-40.0 degrees Celsius = -40.0 degrees Fahrenheit\n",
      "-10.0 degrees Celsius = 14.0 degrees Fahrenheit\n",
      "0.0 degrees Celsius = 32.0 degrees Fahrenheit\n",
      "8.0 degrees Celsius = 46.0 degrees Fahrenheit\n",
      "15.0 degrees Celsius = 59.0 degrees Fahrenheit\n",
      "22.0 degrees Celsius = 72.0 degrees Fahrenheit\n",
      "38.0 degrees Celsius = 100.0 degrees Fahrenheit\n"
     ]
    }
   ],
   "source": [
    "celsius_q    = np.array([-40, -10,  0,  8, 15, 22,  38], dtype = float)\n",
    "fahrenheit_a = np.array([-40,  14, 32, 46, 59, 72, 100], dtype = float)\n",
    "\n",
    "for i,c in enumerate(celsius_q):\n",
    "    print(\"{} degrees Celsius = {} degrees Fahrenheit\".format(c, fahrenheit_a[i]))\n"
   ]
  },
  {
   "cell_type": "code",
   "execution_count": 6,
   "id": "defensive-signature",
   "metadata": {},
   "outputs": [],
   "source": [
    "#Single layer Dense network\n",
    "#input_shape = [1] Specifies that the input to this layer is a single value. \n",
    "#units =1 Specifies the number of neurons in the layer. The number of neurons define how many internal variables the layer has to try to learn to solve the problem\n",
    "l0 = tf.keras.layers.Dense(units =1, input_shape=[1])"
   ]
  },
  {
   "cell_type": "code",
   "execution_count": 7,
   "id": "worldwide-video",
   "metadata": {},
   "outputs": [],
   "source": [
    "#Assign layers into the model\n",
    "model = tf.keras.Sequential([l0])"
   ]
  },
  {
   "cell_type": "code",
   "execution_count": 8,
   "id": "palestinian-wiring",
   "metadata": {},
   "outputs": [],
   "source": [
    "#Model needs to compile before train.\n",
    "# loss - How far the difference from the desired outcome\n",
    "# optimizer - at what resolution internal values to be adjusted\n",
    "model.compile(loss = 'mean_squared_error',\n",
    "              optimizer = tf.keras.optimizers.Adam(0.1))"
   ]
  },
  {
   "cell_type": "code",
   "execution_count": 9,
   "id": "senior-summer",
   "metadata": {},
   "outputs": [
    {
     "name": "stdout",
     "output_type": "stream",
     "text": [
      "Finished training the model\n"
     ]
    }
   ],
   "source": [
    "#Fit method to Train the model\n",
    "#Epochs - For number of iteration the model will train\n",
    "\n",
    "\n",
    "history = model.fit(celsius_q, fahrenheit_a, epochs = 500, verbose = False)\n",
    "print(\"Finished training the model\")"
   ]
  },
  {
   "cell_type": "code",
   "execution_count": 11,
   "id": "victorian-cemetery",
   "metadata": {},
   "outputs": [],
   "source": [
    "import matplotlib.pyplot as plt"
   ]
  },
  {
   "cell_type": "code",
   "execution_count": 12,
   "id": "joined-prophet",
   "metadata": {},
   "outputs": [
    {
     "data": {
      "text/plain": [
       "[<matplotlib.lines.Line2D at 0x2057851cca0>]"
      ]
     },
     "execution_count": 12,
     "metadata": {},
     "output_type": "execute_result"
    },
    {
     "data": {
      "image/png": "[encoded data removed]",
      "text/plain": [
       "<Figure size 432x288 with 1 Axes>"
      ]
     },
     "metadata": {
      "needs_background": "light"
     },
     "output_type": "display_data"
    }
   ],
   "source": [
    "plt.xlabel('Epoch Number')\n",
    "plt.ylabel(\"Loss Magnitude\")\n",
    "plt.plot(history.history['loss'])"
   ]
  },
  {
   "cell_type": "code",
   "execution_count": 13,
   "id": "narrative-columbus",
   "metadata": {},
   "outputs": [
    {
     "name": "stdout",
     "output_type": "stream",
     "text": [
      "[[211.3347]]\n"
     ]
    }
   ],
   "source": [
    "print(model.predict([100.00]))"
   ]
  },
  {
   "cell_type": "code",
   "execution_count": 16,
   "id": "alive-meaning",
   "metadata": {},
   "outputs": [
    {
     "name": "stdout",
     "output_type": "stream",
     "text": [
      "These are the layer variables: [array([[1.8210553]], dtype=float32), array([29.229176], dtype=float32)]\n"
     ]
    }
   ],
   "source": [
    "# internal variable display\n",
    "print(\"These are the layer variables: {}\".format(l0.get_weights()))"
   ]
  },
  {
   "cell_type": "code",
   "execution_count": null,
   "id": "threaded-prophet",
   "metadata": {},
   "outputs": [],
   "source": []
  },
  {
   "cell_type": "code",
   "execution_count": null,
   "id": "younger-carolina",
   "metadata": {},
   "outputs": [],
   "source": []
  }
 ],
 "metadata": {
  "kernelspec": {
   "display_name": "Python 3",
   "language": "python",
   "name": "python3"
  },
  "language_info": {
   "codemirror_mode": {
    "name": "ipython",
    "version": 3
   },
   "file_extension": ".py",
   "mimetype": "text/x-python",
   "name": "python",
   "nbconvert_exporter": "python",
   "pygments_lexer": "ipython3",
   "version": "3.8.7"
  }
 },
 "nbformat": 4,
 "nbformat_minor": 5
}
